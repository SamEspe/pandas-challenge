{
 "cells": [
  {
   "cell_type": "markdown",
   "id": "a4671624",
   "metadata": {},
   "source": [
    "# Pandas Challenge - PyCitySchools\n",
    "\n",
    "## Set-up"
   ]
  },
  {
   "cell_type": "code",
   "execution_count": 1,
   "id": "b4dc6c26",
   "metadata": {},
   "outputs": [],
   "source": [
    "#Import dependencies\n",
    "import pandas as pd"
   ]
  },
  {
   "cell_type": "code",
   "execution_count": 2,
   "id": "26591708",
   "metadata": {},
   "outputs": [],
   "source": [
    "#Load in files\n",
    "school_data_to_load = \"Resources/schools_complete.csv\"\n",
    "student_data_to_load = \"Resources/students_complete.csv\""
   ]
  },
  {
   "cell_type": "code",
   "execution_count": 3,
   "id": "f965e8f4",
   "metadata": {
    "scrolled": true
   },
   "outputs": [],
   "source": [
    "#Read in files, save as dataframes\n",
    "school_data = pd.read_csv(school_data_to_load)\n",
    "student_data = pd.read_csv(student_data_to_load)"
   ]
  },
  {
   "cell_type": "code",
   "execution_count": 4,
   "id": "f94b9ec2",
   "metadata": {},
   "outputs": [
    {
     "data": {
      "text/html": [
       "<div>\n",
       "<style scoped>\n",
       "    .dataframe tbody tr th:only-of-type {\n",
       "        vertical-align: middle;\n",
       "    }\n",
       "\n",
       "    .dataframe tbody tr th {\n",
       "        vertical-align: top;\n",
       "    }\n",
       "\n",
       "    .dataframe thead th {\n",
       "        text-align: right;\n",
       "    }\n",
       "</style>\n",
       "<table border=\"1\" class=\"dataframe\">\n",
       "  <thead>\n",
       "    <tr style=\"text-align: right;\">\n",
       "      <th></th>\n",
       "      <th>Student ID</th>\n",
       "      <th>student_name</th>\n",
       "      <th>gender</th>\n",
       "      <th>grade</th>\n",
       "      <th>school_name</th>\n",
       "      <th>reading_score</th>\n",
       "      <th>math_score</th>\n",
       "      <th>School ID</th>\n",
       "      <th>type</th>\n",
       "      <th>size</th>\n",
       "      <th>budget</th>\n",
       "    </tr>\n",
       "  </thead>\n",
       "  <tbody>\n",
       "    <tr>\n",
       "      <th>0</th>\n",
       "      <td>0</td>\n",
       "      <td>Paul Bradley</td>\n",
       "      <td>M</td>\n",
       "      <td>9th</td>\n",
       "      <td>Huang High School</td>\n",
       "      <td>66</td>\n",
       "      <td>79</td>\n",
       "      <td>0</td>\n",
       "      <td>District</td>\n",
       "      <td>2917</td>\n",
       "      <td>1910635</td>\n",
       "    </tr>\n",
       "    <tr>\n",
       "      <th>1</th>\n",
       "      <td>1</td>\n",
       "      <td>Victor Smith</td>\n",
       "      <td>M</td>\n",
       "      <td>12th</td>\n",
       "      <td>Huang High School</td>\n",
       "      <td>94</td>\n",
       "      <td>61</td>\n",
       "      <td>0</td>\n",
       "      <td>District</td>\n",
       "      <td>2917</td>\n",
       "      <td>1910635</td>\n",
       "    </tr>\n",
       "    <tr>\n",
       "      <th>2</th>\n",
       "      <td>2</td>\n",
       "      <td>Kevin Rodriguez</td>\n",
       "      <td>M</td>\n",
       "      <td>12th</td>\n",
       "      <td>Huang High School</td>\n",
       "      <td>90</td>\n",
       "      <td>60</td>\n",
       "      <td>0</td>\n",
       "      <td>District</td>\n",
       "      <td>2917</td>\n",
       "      <td>1910635</td>\n",
       "    </tr>\n",
       "    <tr>\n",
       "      <th>3</th>\n",
       "      <td>3</td>\n",
       "      <td>Dr. Richard Scott</td>\n",
       "      <td>M</td>\n",
       "      <td>12th</td>\n",
       "      <td>Huang High School</td>\n",
       "      <td>67</td>\n",
       "      <td>58</td>\n",
       "      <td>0</td>\n",
       "      <td>District</td>\n",
       "      <td>2917</td>\n",
       "      <td>1910635</td>\n",
       "    </tr>\n",
       "    <tr>\n",
       "      <th>4</th>\n",
       "      <td>4</td>\n",
       "      <td>Bonnie Ray</td>\n",
       "      <td>F</td>\n",
       "      <td>9th</td>\n",
       "      <td>Huang High School</td>\n",
       "      <td>97</td>\n",
       "      <td>84</td>\n",
       "      <td>0</td>\n",
       "      <td>District</td>\n",
       "      <td>2917</td>\n",
       "      <td>1910635</td>\n",
       "    </tr>\n",
       "    <tr>\n",
       "      <th>...</th>\n",
       "      <td>...</td>\n",
       "      <td>...</td>\n",
       "      <td>...</td>\n",
       "      <td>...</td>\n",
       "      <td>...</td>\n",
       "      <td>...</td>\n",
       "      <td>...</td>\n",
       "      <td>...</td>\n",
       "      <td>...</td>\n",
       "      <td>...</td>\n",
       "      <td>...</td>\n",
       "    </tr>\n",
       "    <tr>\n",
       "      <th>39165</th>\n",
       "      <td>39165</td>\n",
       "      <td>Donna Howard</td>\n",
       "      <td>F</td>\n",
       "      <td>12th</td>\n",
       "      <td>Thomas High School</td>\n",
       "      <td>99</td>\n",
       "      <td>90</td>\n",
       "      <td>14</td>\n",
       "      <td>Charter</td>\n",
       "      <td>1635</td>\n",
       "      <td>1043130</td>\n",
       "    </tr>\n",
       "    <tr>\n",
       "      <th>39166</th>\n",
       "      <td>39166</td>\n",
       "      <td>Dawn Bell</td>\n",
       "      <td>F</td>\n",
       "      <td>10th</td>\n",
       "      <td>Thomas High School</td>\n",
       "      <td>95</td>\n",
       "      <td>70</td>\n",
       "      <td>14</td>\n",
       "      <td>Charter</td>\n",
       "      <td>1635</td>\n",
       "      <td>1043130</td>\n",
       "    </tr>\n",
       "    <tr>\n",
       "      <th>39167</th>\n",
       "      <td>39167</td>\n",
       "      <td>Rebecca Tanner</td>\n",
       "      <td>F</td>\n",
       "      <td>9th</td>\n",
       "      <td>Thomas High School</td>\n",
       "      <td>73</td>\n",
       "      <td>84</td>\n",
       "      <td>14</td>\n",
       "      <td>Charter</td>\n",
       "      <td>1635</td>\n",
       "      <td>1043130</td>\n",
       "    </tr>\n",
       "    <tr>\n",
       "      <th>39168</th>\n",
       "      <td>39168</td>\n",
       "      <td>Desiree Kidd</td>\n",
       "      <td>F</td>\n",
       "      <td>10th</td>\n",
       "      <td>Thomas High School</td>\n",
       "      <td>99</td>\n",
       "      <td>90</td>\n",
       "      <td>14</td>\n",
       "      <td>Charter</td>\n",
       "      <td>1635</td>\n",
       "      <td>1043130</td>\n",
       "    </tr>\n",
       "    <tr>\n",
       "      <th>39169</th>\n",
       "      <td>39169</td>\n",
       "      <td>Carolyn Jackson</td>\n",
       "      <td>F</td>\n",
       "      <td>11th</td>\n",
       "      <td>Thomas High School</td>\n",
       "      <td>95</td>\n",
       "      <td>75</td>\n",
       "      <td>14</td>\n",
       "      <td>Charter</td>\n",
       "      <td>1635</td>\n",
       "      <td>1043130</td>\n",
       "    </tr>\n",
       "  </tbody>\n",
       "</table>\n",
       "<p>39170 rows × 11 columns</p>\n",
       "</div>"
      ],
      "text/plain": [
       "       Student ID       student_name gender grade         school_name  \\\n",
       "0               0       Paul Bradley      M   9th   Huang High School   \n",
       "1               1       Victor Smith      M  12th   Huang High School   \n",
       "2               2    Kevin Rodriguez      M  12th   Huang High School   \n",
       "3               3  Dr. Richard Scott      M  12th   Huang High School   \n",
       "4               4         Bonnie Ray      F   9th   Huang High School   \n",
       "...           ...                ...    ...   ...                 ...   \n",
       "39165       39165       Donna Howard      F  12th  Thomas High School   \n",
       "39166       39166          Dawn Bell      F  10th  Thomas High School   \n",
       "39167       39167     Rebecca Tanner      F   9th  Thomas High School   \n",
       "39168       39168       Desiree Kidd      F  10th  Thomas High School   \n",
       "39169       39169    Carolyn Jackson      F  11th  Thomas High School   \n",
       "\n",
       "       reading_score  math_score  School ID      type  size   budget  \n",
       "0                 66          79          0  District  2917  1910635  \n",
       "1                 94          61          0  District  2917  1910635  \n",
       "2                 90          60          0  District  2917  1910635  \n",
       "3                 67          58          0  District  2917  1910635  \n",
       "4                 97          84          0  District  2917  1910635  \n",
       "...              ...         ...        ...       ...   ...      ...  \n",
       "39165             99          90         14   Charter  1635  1043130  \n",
       "39166             95          70         14   Charter  1635  1043130  \n",
       "39167             73          84         14   Charter  1635  1043130  \n",
       "39168             99          90         14   Charter  1635  1043130  \n",
       "39169             95          75         14   Charter  1635  1043130  \n",
       "\n",
       "[39170 rows x 11 columns]"
      ]
     },
     "execution_count": 4,
     "metadata": {},
     "output_type": "execute_result"
    }
   ],
   "source": [
    "#Combine data into single dataframe\n",
    "school_data_complete = pd.merge(student_data, school_data, how=\"left\", on=[\"school_name\", \"school_name\"])\n",
    "\n",
    "school_data_complete"
   ]
  },
  {
   "cell_type": "markdown",
   "id": "ac3ce87d",
   "metadata": {},
   "source": [
    "## District Summary"
   ]
  },
  {
   "cell_type": "markdown",
   "id": "441a1d8c",
   "metadata": {},
   "source": [
    "### Calculate total number of schools"
   ]
  },
  {
   "cell_type": "code",
   "execution_count": 6,
   "id": "986109dd",
   "metadata": {},
   "outputs": [
    {
     "data": {
      "text/plain": [
       "array(['Huang High School', 'Figueroa High School', 'Shelton High School',\n",
       "       'Hernandez High School', 'Griffin High School',\n",
       "       'Wilson High School', 'Cabrera High School', 'Bailey High School',\n",
       "       'Holden High School', 'Pena High School', 'Wright High School',\n",
       "       'Rodriguez High School', 'Johnson High School', 'Ford High School',\n",
       "       'Thomas High School'], dtype=object)"
      ]
     },
     "execution_count": 6,
     "metadata": {},
     "output_type": "execute_result"
    }
   ],
   "source": [
    "#Find unique school names\n",
    "total_schools_array = school_data_complete[\"school_name\"].unique()\n",
    "total_schools_array"
   ]
  },
  {
   "cell_type": "code",
   "execution_count": 7,
   "id": "330ce170",
   "metadata": {},
   "outputs": [
    {
     "data": {
      "text/plain": [
       "15"
      ]
     },
     "execution_count": 7,
     "metadata": {},
     "output_type": "execute_result"
    }
   ],
   "source": [
    "#Find length of total_schools_array\n",
    "number_of_schools = len(total_schools_array)\n",
    "\n",
    "number_of_schools"
   ]
  },
  {
   "cell_type": "code",
   "execution_count": 8,
   "id": "f4b5d408",
   "metadata": {},
   "outputs": [
    {
     "data": {
      "text/plain": [
       "39170"
      ]
     },
     "execution_count": 8,
     "metadata": {},
     "output_type": "execute_result"
    }
   ],
   "source": [
    "#Calculate total number of students\n",
    "total_students = len(school_data_complete[\"student_name\"])\n",
    "\n",
    "total_students"
   ]
  },
  {
   "cell_type": "code",
   "execution_count": null,
   "id": "d40390fe",
   "metadata": {},
   "outputs": [],
   "source": []
  },
  {
   "cell_type": "code",
   "execution_count": 9,
   "id": "fad73a67",
   "metadata": {},
   "outputs": [
    {
     "data": {
      "text/plain": [
       "24649428"
      ]
     },
     "execution_count": 9,
     "metadata": {},
     "output_type": "execute_result"
    }
   ],
   "source": [
    "#Calculate total budget\n",
    "total_budget = school_data[\"budget\"].sum()\n",
    "\n",
    "total_budget"
   ]
  },
  {
   "cell_type": "code",
   "execution_count": 10,
   "id": "c310f230",
   "metadata": {},
   "outputs": [
    {
     "data": {
      "text/plain": [
       "78.98537145774827"
      ]
     },
     "execution_count": 10,
     "metadata": {},
     "output_type": "execute_result"
    }
   ],
   "source": [
    "#Calculate average math score\n",
    "avg_math_score = school_data_complete[\"math_score\"].mean()\n",
    "\n",
    "avg_math_score"
   ]
  },
  {
   "cell_type": "code",
   "execution_count": 11,
   "id": "bf612606",
   "metadata": {},
   "outputs": [
    {
     "data": {
      "text/plain": [
       "81.87784018381414"
      ]
     },
     "execution_count": 11,
     "metadata": {},
     "output_type": "execute_result"
    }
   ],
   "source": [
    "#Calculate average reading score\n",
    "avg_reading_score = school_data_complete[\"reading_score\"].mean()\n",
    "\n",
    "avg_reading_score"
   ]
  },
  {
   "cell_type": "code",
   "execution_count": 30,
   "id": "e0e5b2b1",
   "metadata": {
    "scrolled": true
   },
   "outputs": [
    {
     "data": {
      "text/plain": [
       "74.9808526933878"
      ]
     },
     "execution_count": 30,
     "metadata": {},
     "output_type": "execute_result"
    }
   ],
   "source": [
    "#Calculate percentage of students passing math (>= 70)\n",
    "\n",
    "passing_math_scores = [entry for entry in school_data_complete[\"math_score\"] if entry >= 70]\n",
    "\n",
    "percent_passing_math = (len(passing_math_scores)/total_students) * 100\n",
    "\n",
    "percent_passing_math"
   ]
  },
  {
   "cell_type": "code",
   "execution_count": 32,
   "id": "e15bf657",
   "metadata": {},
   "outputs": [
    {
     "data": {
      "text/plain": [
       "85.80546336482001"
      ]
     },
     "execution_count": 32,
     "metadata": {},
     "output_type": "execute_result"
    }
   ],
   "source": [
    "#Calculate percentage of students passing reading (>= 70)\n",
    "\n",
    "passing_reading_scores = [entry for entry in school_data_complete[\"reading_score\"] if entry >= 70]\n",
    "\n",
    "percent_passing_reading = (len(passing_reading_scores)/total_students) * 100\n",
    "\n",
    "percent_passing_reading"
   ]
  },
  {
   "cell_type": "code",
   "execution_count": null,
   "id": "8fec48d5",
   "metadata": {},
   "outputs": [],
   "source": [
    "#Calculate percentage passing both\n",
    "passing_both = [entry for entry in school_data_complete if ]"
   ]
  },
  {
   "cell_type": "code",
   "execution_count": null,
   "id": "2a4063f0",
   "metadata": {},
   "outputs": [],
   "source": [
    "#Create dataframe with results"
   ]
  },
  {
   "cell_type": "code",
   "execution_count": null,
   "id": "8befb4cc",
   "metadata": {},
   "outputs": [],
   "source": [
    "#Format displayed data"
   ]
  },
  {
   "cell_type": "markdown",
   "id": "33e8c669",
   "metadata": {},
   "source": [
    "## School Summary"
   ]
  },
  {
   "cell_type": "code",
   "execution_count": null,
   "id": "3dd59179",
   "metadata": {},
   "outputs": [],
   "source": [
    "#Create overview table listing each school individually"
   ]
  },
  {
   "cell_type": "code",
   "execution_count": null,
   "id": "f4c24dc9",
   "metadata": {},
   "outputs": [],
   "source": [
    "#Create dataframe to hold and display results"
   ]
  },
  {
   "cell_type": "markdown",
   "id": "90e6875f",
   "metadata": {},
   "source": [
    "## Top Performing Schools (by % Overall Passing)"
   ]
  },
  {
   "cell_type": "code",
   "execution_count": null,
   "id": "66acd766",
   "metadata": {},
   "outputs": [],
   "source": [
    "#Sort School Summary dataframe by % Overall Passing to display top 5 schools"
   ]
  },
  {
   "cell_type": "code",
   "execution_count": null,
   "id": "9ac603f3",
   "metadata": {},
   "outputs": [],
   "source": [
    "#Display resulting dataframe"
   ]
  },
  {
   "cell_type": "markdown",
   "id": "9cfbdaf3",
   "metadata": {},
   "source": [
    "## Bottom Performing Schools (by % Overall Passing)"
   ]
  },
  {
   "cell_type": "code",
   "execution_count": null,
   "id": "df77b977",
   "metadata": {},
   "outputs": [],
   "source": [
    "#Sort School Summary dataframe by % Overall Passing to display bottom 5 schools"
   ]
  },
  {
   "cell_type": "code",
   "execution_count": null,
   "id": "dee361e9",
   "metadata": {},
   "outputs": [],
   "source": [
    "#Display resulting dataframe"
   ]
  },
  {
   "cell_type": "markdown",
   "id": "313211d0",
   "metadata": {},
   "source": [
    "## Math Scores by Grade per School"
   ]
  },
  {
   "cell_type": "code",
   "execution_count": null,
   "id": "33fb8465",
   "metadata": {},
   "outputs": [],
   "source": [
    "#Create pandas series of math scores for each grade"
   ]
  },
  {
   "cell_type": "code",
   "execution_count": null,
   "id": "50005d2c",
   "metadata": {},
   "outputs": [],
   "source": [
    "#Group grade series by school"
   ]
  },
  {
   "cell_type": "code",
   "execution_count": null,
   "id": "60bd807e",
   "metadata": {},
   "outputs": [],
   "source": [
    "#Combine series into dataframe"
   ]
  },
  {
   "cell_type": "code",
   "execution_count": null,
   "id": "b0f8418e",
   "metadata": {},
   "outputs": [],
   "source": [
    "#Display dataframe"
   ]
  },
  {
   "cell_type": "code",
   "execution_count": null,
   "id": "780d1607",
   "metadata": {},
   "outputs": [],
   "source": [
    "#Format dataframe"
   ]
  },
  {
   "cell_type": "markdown",
   "id": "4c4a2ca7",
   "metadata": {},
   "source": [
    "## Reading Scores by Grade per School"
   ]
  },
  {
   "cell_type": "code",
   "execution_count": null,
   "id": "9318b36b",
   "metadata": {},
   "outputs": [],
   "source": [
    "#Create pandas series of reading scores for each grade"
   ]
  },
  {
   "cell_type": "code",
   "execution_count": null,
   "id": "8214bb8b",
   "metadata": {},
   "outputs": [],
   "source": [
    "#Group grade series by school"
   ]
  },
  {
   "cell_type": "code",
   "execution_count": null,
   "id": "2eddcc59",
   "metadata": {},
   "outputs": [],
   "source": [
    "#Combine series into dataframe"
   ]
  },
  {
   "cell_type": "code",
   "execution_count": null,
   "id": "232b4f06",
   "metadata": {},
   "outputs": [],
   "source": [
    "#Display dataframe"
   ]
  },
  {
   "cell_type": "code",
   "execution_count": null,
   "id": "e80b7d93",
   "metadata": {},
   "outputs": [],
   "source": [
    "#Format dataframe"
   ]
  },
  {
   "cell_type": "markdown",
   "id": "f9187d16",
   "metadata": {},
   "source": [
    "## Scores by School Spending "
   ]
  },
  {
   "cell_type": "code",
   "execution_count": null,
   "id": "5a4a4548",
   "metadata": {},
   "outputs": [],
   "source": [
    "#Create table that breaks down school performance metrics into 4 bins by \n",
    "#Spending Ranges(per student)."
   ]
  },
  {
   "cell_type": "markdown",
   "id": "593c8cc2",
   "metadata": {},
   "source": [
    "## Scores by School Size"
   ]
  },
  {
   "cell_type": "code",
   "execution_count": null,
   "id": "b528e03a",
   "metadata": {},
   "outputs": [],
   "source": [
    "#Create table that breaks down school performance metrics by school size"
   ]
  },
  {
   "cell_type": "markdown",
   "id": "20bd0eb2",
   "metadata": {},
   "source": [
    "## Scores by School Type"
   ]
  },
  {
   "cell_type": "code",
   "execution_count": null,
   "id": "43774cea",
   "metadata": {},
   "outputs": [],
   "source": [
    "#Create table that breaks down school performance metrics by school type"
   ]
  }
 ],
 "metadata": {
  "kernelspec": {
   "display_name": "PythonData38",
   "language": "python",
   "name": "pythondata38"
  },
  "language_info": {
   "codemirror_mode": {
    "name": "ipython",
    "version": 3
   },
   "file_extension": ".py",
   "mimetype": "text/x-python",
   "name": "python",
   "nbconvert_exporter": "python",
   "pygments_lexer": "ipython3",
   "version": "3.9.12"
  }
 },
 "nbformat": 4,
 "nbformat_minor": 5
}
