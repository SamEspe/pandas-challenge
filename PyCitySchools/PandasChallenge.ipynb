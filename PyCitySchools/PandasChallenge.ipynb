{
 "cells": [
  {
   "cell_type": "markdown",
   "id": "a4671624",
   "metadata": {},
   "source": [
    "# Pandas Challenge - PyCitySchools\n",
    "\n",
    "## Set-up"
   ]
  },
  {
   "cell_type": "code",
   "execution_count": 2,
   "id": "b4dc6c26",
   "metadata": {},
   "outputs": [],
   "source": [
    "#Import dependencies\n",
    "import pandas as pd"
   ]
  },
  {
   "cell_type": "code",
   "execution_count": 3,
   "id": "26591708",
   "metadata": {},
   "outputs": [],
   "source": [
    "#Load in files\n",
    "school_data_to_load = \"Resources/schools_complete.csv\"\n",
    "student_data_to_load = \"Resources/students_complete.csv\""
   ]
  },
  {
   "cell_type": "code",
   "execution_count": 8,
   "id": "f965e8f4",
   "metadata": {
    "scrolled": true
   },
   "outputs": [],
   "source": [
    "#Read in files, save as dataframes\n",
    "school_data = pd.read_csv(school_data_to_load)\n",
    "student_data = pd.read_csv(student_data_to_load)"
   ]
  },
  {
   "cell_type": "code",
   "execution_count": 5,
   "id": "f94b9ec2",
   "metadata": {},
   "outputs": [],
   "source": [
    "#Combine data into single dataframe\n",
    "school_data_complete = pd.merge(student_data, school_data, how=\"left\", on=[\"school_name\", \"school_name\"])"
   ]
  },
  {
   "cell_type": "markdown",
   "id": "ac3ce87d",
   "metadata": {},
   "source": [
    "## District Summary"
   ]
  },
  {
   "cell_type": "code",
   "execution_count": 1,
   "id": "986109dd",
   "metadata": {},
   "outputs": [],
   "source": [
    "#Calculate total number of schools"
   ]
  },
  {
   "cell_type": "code",
   "execution_count": null,
   "id": "b5fb41b5",
   "metadata": {},
   "outputs": [],
   "source": [
    "#Calculate total number of students"
   ]
  },
  {
   "cell_type": "code",
   "execution_count": null,
   "id": "fad73a67",
   "metadata": {},
   "outputs": [],
   "source": [
    "#Calculate total budget"
   ]
  },
  {
   "cell_type": "code",
   "execution_count": null,
   "id": "c310f230",
   "metadata": {},
   "outputs": [],
   "source": [
    "#Calculate average math score"
   ]
  },
  {
   "cell_type": "code",
   "execution_count": null,
   "id": "bf612606",
   "metadata": {},
   "outputs": [],
   "source": [
    "#Calculate average reading score"
   ]
  },
  {
   "cell_type": "code",
   "execution_count": null,
   "id": "e0e5b2b1",
   "metadata": {},
   "outputs": [],
   "source": [
    "#Calculate percentage of students passing math (>= 70)"
   ]
  },
  {
   "cell_type": "code",
   "execution_count": null,
   "id": "e15bf657",
   "metadata": {},
   "outputs": [],
   "source": [
    "#Calculate percentage of students passing reading (>= 70)"
   ]
  },
  {
   "cell_type": "code",
   "execution_count": null,
   "id": "8fec48d5",
   "metadata": {},
   "outputs": [],
   "source": [
    "#Calculate percentage passing both"
   ]
  },
  {
   "cell_type": "code",
   "execution_count": null,
   "id": "2a4063f0",
   "metadata": {},
   "outputs": [],
   "source": [
    "#Create dataframe with results"
   ]
  },
  {
   "cell_type": "code",
   "execution_count": null,
   "id": "8befb4cc",
   "metadata": {},
   "outputs": [],
   "source": [
    "#Format displayed data"
   ]
  },
  {
   "cell_type": "markdown",
   "id": "33e8c669",
   "metadata": {},
   "source": [
    "## School Summary"
   ]
  },
  {
   "cell_type": "code",
   "execution_count": null,
   "id": "3dd59179",
   "metadata": {},
   "outputs": [],
   "source": [
    "#Create overview table listing each school individually"
   ]
  },
  {
   "cell_type": "code",
   "execution_count": null,
   "id": "f4c24dc9",
   "metadata": {},
   "outputs": [],
   "source": [
    "#Create dataframe to hold and display results"
   ]
  },
  {
   "cell_type": "markdown",
   "id": "90e6875f",
   "metadata": {},
   "source": [
    "## Top Performing Schools (by % Overall Passing)"
   ]
  },
  {
   "cell_type": "code",
   "execution_count": null,
   "id": "66acd766",
   "metadata": {},
   "outputs": [],
   "source": [
    "#Sort School Summary dataframe by % Overall Passing to display top 5 schools"
   ]
  },
  {
   "cell_type": "code",
   "execution_count": null,
   "id": "9ac603f3",
   "metadata": {},
   "outputs": [],
   "source": [
    "#Display resulting dataframe"
   ]
  },
  {
   "cell_type": "markdown",
   "id": "9cfbdaf3",
   "metadata": {},
   "source": [
    "## Bottom Performing Schools (by % Overall Passing)"
   ]
  },
  {
   "cell_type": "code",
   "execution_count": null,
   "id": "df77b977",
   "metadata": {},
   "outputs": [],
   "source": [
    "#Sort School Summary dataframe by % Overall Passing to display bottom 5 schools"
   ]
  },
  {
   "cell_type": "code",
   "execution_count": null,
   "id": "dee361e9",
   "metadata": {},
   "outputs": [],
   "source": [
    "#Display resulting dataframe"
   ]
  },
  {
   "cell_type": "markdown",
   "id": "313211d0",
   "metadata": {},
   "source": [
    "## Math Scores by Grade per School"
   ]
  },
  {
   "cell_type": "code",
   "execution_count": null,
   "id": "33fb8465",
   "metadata": {},
   "outputs": [],
   "source": [
    "#Create pandas series of math scores for each grade"
   ]
  },
  {
   "cell_type": "code",
   "execution_count": null,
   "id": "50005d2c",
   "metadata": {},
   "outputs": [],
   "source": [
    "#Group grade series by school"
   ]
  },
  {
   "cell_type": "code",
   "execution_count": null,
   "id": "60bd807e",
   "metadata": {},
   "outputs": [],
   "source": [
    "#Combine series into dataframe"
   ]
  },
  {
   "cell_type": "code",
   "execution_count": null,
   "id": "b0f8418e",
   "metadata": {},
   "outputs": [],
   "source": [
    "#Display dataframe"
   ]
  },
  {
   "cell_type": "code",
   "execution_count": null,
   "id": "780d1607",
   "metadata": {},
   "outputs": [],
   "source": [
    "#Format dataframe"
   ]
  },
  {
   "cell_type": "markdown",
   "id": "4c4a2ca7",
   "metadata": {},
   "source": [
    "## Reading Scores by Grade per School"
   ]
  },
  {
   "cell_type": "code",
   "execution_count": null,
   "id": "9318b36b",
   "metadata": {},
   "outputs": [],
   "source": [
    "#Create pandas series of reading scores for each grade"
   ]
  },
  {
   "cell_type": "code",
   "execution_count": null,
   "id": "8214bb8b",
   "metadata": {},
   "outputs": [],
   "source": [
    "#Group grade series by school"
   ]
  },
  {
   "cell_type": "code",
   "execution_count": null,
   "id": "2eddcc59",
   "metadata": {},
   "outputs": [],
   "source": [
    "#Combine series into dataframe"
   ]
  },
  {
   "cell_type": "code",
   "execution_count": null,
   "id": "232b4f06",
   "metadata": {},
   "outputs": [],
   "source": [
    "#Display dataframe"
   ]
  },
  {
   "cell_type": "code",
   "execution_count": null,
   "id": "e80b7d93",
   "metadata": {},
   "outputs": [],
   "source": [
    "#Format dataframe"
   ]
  },
  {
   "cell_type": "markdown",
   "id": "f9187d16",
   "metadata": {},
   "source": [
    "## Scores by School Spending "
   ]
  },
  {
   "cell_type": "code",
   "execution_count": null,
   "id": "5a4a4548",
   "metadata": {},
   "outputs": [],
   "source": [
    "#Create table that breaks down school performance metrics into 4 bins by \n",
    "#Spending Ranges(per student)."
   ]
  },
  {
   "cell_type": "markdown",
   "id": "593c8cc2",
   "metadata": {},
   "source": [
    "## Scores by School Size"
   ]
  },
  {
   "cell_type": "code",
   "execution_count": null,
   "id": "b528e03a",
   "metadata": {},
   "outputs": [],
   "source": [
    "#Create table that breaks down school performance metrics by school size"
   ]
  },
  {
   "cell_type": "markdown",
   "id": "20bd0eb2",
   "metadata": {},
   "source": [
    "## Scores by School Type"
   ]
  },
  {
   "cell_type": "code",
   "execution_count": null,
   "id": "43774cea",
   "metadata": {},
   "outputs": [],
   "source": [
    "#Create table that breaks down school performance metrics by school type"
   ]
  }
 ],
 "metadata": {
  "kernelspec": {
   "display_name": "PythonData38",
   "language": "python",
   "name": "pythondata38"
  },
  "language_info": {
   "codemirror_mode": {
    "name": "ipython",
    "version": 3
   },
   "file_extension": ".py",
   "mimetype": "text/x-python",
   "name": "python",
   "nbconvert_exporter": "python",
   "pygments_lexer": "ipython3",
   "version": "3.9.12"
  }
 },
 "nbformat": 4,
 "nbformat_minor": 5
}
